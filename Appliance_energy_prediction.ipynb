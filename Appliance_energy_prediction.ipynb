{
  "nbformat": 4,
  "nbformat_minor": 0,
  "metadata": {
    "colab": {
      "provenance": [],
      "include_colab_link": true
    },
    "kernelspec": {
      "name": "python3",
      "display_name": "Python 3"
    },
    "language_info": {
      "name": "python"
    }
  },
  "cells": [
    {
      "cell_type": "markdown",
      "metadata": {
        "id": "view-in-github",
        "colab_type": "text"
      },
      "source": [
        "<a href=\"https://colab.research.google.com/github/itsmesudhanshu/electricalappliance-ml-regression/blob/main/Appliance_energy_prediction.ipynb\" target=\"_parent\"><img src=\"https://colab.research.google.com/assets/colab-badge.svg\" alt=\"Open In Colab\"/></a>"
      ]
    },
    {
      "cell_type": "markdown",
      "source": [
        "#**Appliance Energy Prediction**\n",
        "##**Project Type - Regression**\n",
        "##**Contribution**- Team\n",
        "Team Member 1- Kapil Narayan Singh\n",
        "\n",
        "Team Member 2- Sudhanshu Chouhan"
      ],
      "metadata": {
        "id": "MXwstPGTmM-9"
      }
    },
    {
      "cell_type": "markdown",
      "source": [
        "#**Project Summary**\n",
        "In this project we are going to predict the energy usage of appliance.The data that we have been provided has a data set is of 10 min for about 4.5 months.Data has been made up by monitoring House temprature and Humidity condition by a Zigbee wireless sensor network.Each wireless node transmitted the temprature and Humidity condition for 3.3 minute and the wirelss Data was averaged for 10 minutes.The energy data was logged every 10 minutes with m-bus energy metres.Weather from the nearest airport station (Chievres Airport, Belgium) was downloaded from a public data set from Reliable Prognosis(rp5.ru) and merged together with experimental data set using Date and time coloumn.In this Data set there are two variables that has been included for testing the regression models and to filter out non- predictive attributes.  "
      ],
      "metadata": {
        "id": "lRZ4YbLlno60"
      }
    },
    {
      "cell_type": "markdown",
      "source": [
        "#**Let's Begin!**"
      ],
      "metadata": {
        "id": "tHwYvUt0VpKc"
      }
    },
    {
      "cell_type": "markdown",
      "source": [
        "##**Know Your Data**"
      ],
      "metadata": {
        "id": "EpxrWaWuV00F"
      }
    },
    {
      "cell_type": "code",
      "source": [],
      "metadata": {
        "id": "u_j2D_QsWEfE"
      },
      "execution_count": null,
      "outputs": []
    }
  ]
}